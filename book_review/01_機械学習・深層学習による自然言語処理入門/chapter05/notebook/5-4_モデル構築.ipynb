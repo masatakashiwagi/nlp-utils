{
 "cells": [
  {
   "cell_type": "code",
   "execution_count": 1,
   "metadata": {},
   "outputs": [],
   "source": [
    "import sys\n",
    "\n",
    "sys.path.append('../src/')"
   ]
  },
  {
   "cell_type": "code",
   "execution_count": 2,
   "metadata": {},
   "outputs": [],
   "source": [
    "from sklearn.feature_extraction.text import CountVectorizer, TfidfVectorizer\n",
    "from sklearn.model_selection import train_test_split\n",
    "from preprocessing import clean_html, tokenize\n",
    "from utils import load_dataset, train_and_eval"
   ]
  },
  {
   "cell_type": "markdown",
   "metadata": {},
   "source": [
    "## データロード"
   ]
  },
  {
   "cell_type": "code",
   "execution_count": 4,
   "metadata": {},
   "outputs": [],
   "source": [
    "x, y = load_dataset('../data/amazon_reviews_multilingual_JP_v1_00.tsv', n=5000)"
   ]
  },
  {
   "cell_type": "code",
   "execution_count": 7,
   "metadata": {},
   "outputs": [
    {
     "name": "stdout",
     "output_type": "stream",
     "text": [
      "Tokenization\n"
     ]
    }
   ],
   "source": [
    "print('Tokenization')\n",
    "x = [clean_html(text, strip=True) for text in x]\n",
    "x = [' '.join(tokenize(text)) for text in x]"
   ]
  },
  {
   "cell_type": "markdown",
   "metadata": {},
   "source": [
    "## データ分割"
   ]
  },
  {
   "cell_type": "code",
   "execution_count": 8,
   "metadata": {},
   "outputs": [],
   "source": [
    "x_train, x_test, y_train, y_test = train_test_split(x, y, test_size=0.2, random_state=42)"
   ]
  },
  {
   "cell_type": "markdown",
   "metadata": {},
   "source": [
    "## 学習と評価"
   ]
  },
  {
   "cell_type": "code",
   "execution_count": 9,
   "metadata": {},
   "outputs": [
    {
     "name": "stdout",
     "output_type": "stream",
     "text": [
      "Binary\n",
      "0.8385\n"
     ]
    }
   ],
   "source": [
    "print('Binary')\n",
    "vectorizer = CountVectorizer(binary=True)\n",
    "train_and_eval(x_train, y_train, x_test, y_test, vectorizer)"
   ]
  },
  {
   "cell_type": "code",
   "execution_count": 10,
   "metadata": {},
   "outputs": [
    {
     "name": "stdout",
     "output_type": "stream",
     "text": [
      "Count\n",
      "0.8365\n"
     ]
    }
   ],
   "source": [
    "print('Count')\n",
    "vectorizer = CountVectorizer(binary=False)\n",
    "train_and_eval(x_train, y_train, x_test, y_test, vectorizer)"
   ]
  },
  {
   "cell_type": "code",
   "execution_count": 11,
   "metadata": {},
   "outputs": [
    {
     "name": "stdout",
     "output_type": "stream",
     "text": [
      "TF-IDF\n",
      "0.8510\n"
     ]
    }
   ],
   "source": [
    "print('TF-IDF')\n",
    "vectorizer = TfidfVectorizer()\n",
    "train_and_eval(x_train, y_train, x_test, y_test, vectorizer)"
   ]
  },
  {
   "cell_type": "code",
   "execution_count": 12,
   "metadata": {},
   "outputs": [
    {
     "name": "stdout",
     "output_type": "stream",
     "text": [
      "Bigram\n",
      "0.8545\n"
     ]
    }
   ],
   "source": [
    "print('Bigram')\n",
    "vectorizer = TfidfVectorizer(ngram_range=(1, 2))\n",
    "train_and_eval(x_train, y_train, x_test, y_test, vectorizer)"
   ]
  },
  {
   "cell_type": "code",
   "execution_count": 17,
   "metadata": {},
   "outputs": [
    {
     "name": "stdout",
     "output_type": "stream",
     "text": [
      "Trigram\n",
      "0.8485\n"
     ]
    }
   ],
   "source": [
    "print('Trigram')\n",
    "vectorizer = TfidfVectorizer(ngram_range=(1, 3))\n",
    "train_and_eval(x_train, y_train, x_test, y_test, vectorizer)"
   ]
  },
  {
   "cell_type": "markdown",
   "metadata": {},
   "source": [
    "- Trigramだと精度上がらないぞ..."
   ]
  },
  {
   "cell_type": "code",
   "execution_count": null,
   "metadata": {},
   "outputs": [],
   "source": []
  }
 ],
 "metadata": {
  "kernelspec": {
   "display_name": "Python 3",
   "language": "python",
   "name": "python3"
  },
  "language_info": {
   "codemirror_mode": {
    "name": "ipython",
    "version": 3
   },
   "file_extension": ".py",
   "mimetype": "text/x-python",
   "name": "python",
   "nbconvert_exporter": "python",
   "pygments_lexer": "ipython3",
   "version": "3.8.5"
  }
 },
 "nbformat": 4,
 "nbformat_minor": 4
}
