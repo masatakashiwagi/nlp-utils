{
 "cells": [
  {
   "cell_type": "code",
   "execution_count": 1,
   "id": "aquatic-relations",
   "metadata": {},
   "outputs": [
    {
     "name": "stderr",
     "output_type": "stream",
     "text": [
      "/Users/masataka/.pyenv/versions/3.8.5/envs/asteriam-ml/lib/python3.8/site-packages/pandas/compat/__init__.py:97: UserWarning: Could not import the lzma module. Your installed Python is incomplete. Attempting to use lzma compression will result in a RuntimeError.\n",
      "  warnings.warn(msg)\n"
     ]
    }
   ],
   "source": [
    "from tensorflow.keras.preprocessing.text import Tokenizer"
   ]
  },
  {
   "cell_type": "markdown",
   "id": "cooperative-hebrew",
   "metadata": {},
   "source": [
    "- Tokenizerは指定した文字でテキストを分割することのできるクラスです。\n",
    "- 分割以外の機能として、ボキャブラリの作成や単語をIDに変換するといったメソッドが提供されています。"
   ]
  },
  {
   "cell_type": "code",
   "execution_count": 4,
   "id": "described-helicopter",
   "metadata": {},
   "outputs": [],
   "source": [
    "tokenizer = Tokenizer(\n",
    "    num_words=10, \n",
    "    filters='!\"#$%&()*+,-./:;<=>?@[\\\\]^_`{|}~\\t\\n', \n",
    "    lower=True, \n",
    "    split=' ', \n",
    "    oov_token='<UNK>'\n",
    ")\n",
    "texts = ['今日 は 良い 天気 だ 。']\n",
    "tokenizer.fit_on_texts(texts)"
   ]
  },
  {
   "cell_type": "code",
   "execution_count": 5,
   "id": "maritime-portsmouth",
   "metadata": {},
   "outputs": [
    {
     "data": {
      "text/plain": [
       "{'<UNK>': 1, '今日': 2, 'は': 3, '良い': 4, '天気': 5, 'だ': 6, '。': 7}"
      ]
     },
     "execution_count": 5,
     "metadata": {},
     "output_type": "execute_result"
    }
   ],
   "source": [
    "tokenizer.word_index"
   ]
  },
  {
   "cell_type": "code",
   "execution_count": 6,
   "id": "antique-japan",
   "metadata": {},
   "outputs": [
    {
     "data": {
      "text/plain": [
       "{1: '<UNK>', 2: '今日', 3: 'は', 4: '良い', 5: '天気', 6: 'だ', 7: '。'}"
      ]
     },
     "execution_count": 6,
     "metadata": {},
     "output_type": "execute_result"
    }
   ],
   "source": [
    "tokenizer.index_word"
   ]
  },
  {
   "cell_type": "code",
   "execution_count": 7,
   "id": "considered-brooklyn",
   "metadata": {},
   "outputs": [
    {
     "data": {
      "text/plain": [
       "[[2, 3, 4, 5, 6, 7]]"
      ]
     },
     "execution_count": 7,
     "metadata": {},
     "output_type": "execute_result"
    }
   ],
   "source": [
    "tokenizer.texts_to_sequences(texts)"
   ]
  },
  {
   "cell_type": "code",
   "execution_count": 8,
   "id": "special-click",
   "metadata": {},
   "outputs": [],
   "source": [
    "from pprint import pprint\n",
    "from tensorflow.keras.preprocessing.sequence import skipgrams"
   ]
  },
  {
   "cell_type": "markdown",
   "id": "mature-management",
   "metadata": {},
   "source": [
    "- sequenceには[1, 2, 3]のようなIDの系列を渡します。この系列を基に出力を生成する。\n",
    "- window_sizeには出力を生成する際に考慮するウィンドウサイズを指定する。 \n",
    "- negative_samplesにはネガティブサンプル数を指定する。\n",
    "    - ありえる単語のペア1に対して、ありえない単語のペア (= ネガティブサンプル ) をいくつ生成するかを指定する。"
   ]
  },
  {
   "cell_type": "code",
   "execution_count": 9,
   "id": "given-mainstream",
   "metadata": {},
   "outputs": [
    {
     "name": "stdout",
     "output_type": "stream",
     "text": [
      "([['猫', 2],\n",
      "  ['猫', 'は'],\n",
      "  ['は', 'かわいい'],\n",
      "  ['は', '猫'],\n",
      "  ['かわいい', 3],\n",
      "  ['は', 2],\n",
      "  ['かわいい', 'は'],\n",
      "  ['は', 2]],\n",
      " [0, 1, 1, 1, 0, 0, 1, 0])\n"
     ]
    }
   ],
   "source": [
    "sequence = ['猫', 'は', 'かわいい']\n",
    "pprint(skipgrams(sequence, vocabulary_size=4, window_size=1))"
   ]
  },
  {
   "cell_type": "code",
   "execution_count": null,
   "id": "mathematical-september",
   "metadata": {},
   "outputs": [],
   "source": []
  }
 ],
 "metadata": {
  "kernelspec": {
   "display_name": "Python 3",
   "language": "python",
   "name": "python3"
  },
  "language_info": {
   "codemirror_mode": {
    "name": "ipython",
    "version": 3
   },
   "file_extension": ".py",
   "mimetype": "text/x-python",
   "name": "python",
   "nbconvert_exporter": "python",
   "pygments_lexer": "ipython3",
   "version": "3.8.5"
  }
 },
 "nbformat": 4,
 "nbformat_minor": 5
}
