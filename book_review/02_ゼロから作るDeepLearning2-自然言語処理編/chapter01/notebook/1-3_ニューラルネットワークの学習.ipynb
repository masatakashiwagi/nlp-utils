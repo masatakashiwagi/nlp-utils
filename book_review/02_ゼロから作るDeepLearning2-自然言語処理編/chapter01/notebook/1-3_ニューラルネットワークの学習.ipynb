{
 "cells": [
  {
   "cell_type": "code",
   "execution_count": 2,
   "id": "visible-lending",
   "metadata": {},
   "outputs": [],
   "source": [
    "import numpy as np"
   ]
  },
  {
   "cell_type": "markdown",
   "id": "filled-complement",
   "metadata": {},
   "source": [
    "## Repeatノード"
   ]
  },
  {
   "cell_type": "code",
   "execution_count": 3,
   "id": "domestic-technical",
   "metadata": {},
   "outputs": [
    {
     "name": "stdout",
     "output_type": "stream",
     "text": [
      "x shape: (1, 8)\n",
      "y shape: (7, 8)\n"
     ]
    }
   ],
   "source": [
    "D, N = 8, 7\n",
    "x = np.random.randn(1, D)\n",
    "y = np.repeat(x, N, axis=0)  # forward\n",
    "\n",
    "print(\"x shape:\", x.shape)\n",
    "print(\"y shape:\", y.shape)\n",
    "# x -> y: Repeat"
   ]
  },
  {
   "cell_type": "code",
   "execution_count": 5,
   "id": "fiscal-glossary",
   "metadata": {},
   "outputs": [
    {
     "name": "stdout",
     "output_type": "stream",
     "text": [
      "dy shape: (7, 8)\n",
      "dx shape: (1, 8)\n"
     ]
    }
   ],
   "source": [
    "dy = np.random.randn(N, D)\n",
    "dx = np.sum(dy, axis=0, keepdims=True)  # backward\n",
    "\n",
    "print(\"dy shape:\", dy.shape)\n",
    "print(\"dx shape:\", dx.shape)\n",
    "# dy -> dx: Sum"
   ]
  },
  {
   "cell_type": "markdown",
   "id": "north-johnston",
   "metadata": {},
   "source": [
    "## Sumノード"
   ]
  },
  {
   "cell_type": "code",
   "execution_count": 7,
   "id": "approved-pathology",
   "metadata": {},
   "outputs": [
    {
     "name": "stdout",
     "output_type": "stream",
     "text": [
      "x shape: (7, 8)\n",
      "y shape: (1, 8)\n"
     ]
    }
   ],
   "source": [
    "D, N = 8, 7\n",
    "x = np.random.randn(N, D)\n",
    "y = np.sum(x, axis=0, keepdims=True)  # forward\n",
    "\n",
    "print(\"x shape:\", x.shape)\n",
    "print(\"y shape:\", y.shape)\n",
    "# x -> y: Repeat"
   ]
  },
  {
   "cell_type": "code",
   "execution_count": 8,
   "id": "norwegian-equation",
   "metadata": {},
   "outputs": [
    {
     "name": "stdout",
     "output_type": "stream",
     "text": [
      "dy shape: (1, 8)\n",
      "dx shape: (7, 8)\n"
     ]
    }
   ],
   "source": [
    "dy = np.random.randn(1, D)\n",
    "dx = np.repeat(dy, N, axis=0)  # backward\n",
    "\n",
    "print(\"dy shape:\", dy.shape)\n",
    "print(\"dx shape:\", dx.shape)\n",
    "# dy -> dx: Sum"
   ]
  },
  {
   "cell_type": "markdown",
   "id": "earned-union",
   "metadata": {},
   "source": [
    "## MatMulノード\n",
    "- Matrix Multiply"
   ]
  },
  {
   "cell_type": "code",
   "execution_count": null,
   "id": "competitive-mercy",
   "metadata": {},
   "outputs": [],
   "source": [
    "class MatMul:\n",
    "    def __init__(self, W):\n",
    "        self.params = [W]\n",
    "        self.grads = [np.zeros_like(W)]\n",
    "        self.x = None\n",
    "    \n",
    "    def forward(self, x):\n",
    "        W, = self.params\n",
    "        out = np.dot(x, W)\n",
    "        selfx = x\n",
    "        return out\n",
    "\n",
    "    def backward(self, dout):\n",
    "        W, = self.params\n",
    "        dx = np.dot(dout, W.T)\n",
    "        dW = np.dot(self.x.T, dout)\n",
    "        self.grads[0][...] = dW\n",
    "        return dx"
   ]
  },
  {
   "cell_type": "code",
   "execution_count": null,
   "id": "varying-northern",
   "metadata": {},
   "outputs": [],
   "source": []
  }
 ],
 "metadata": {
  "kernelspec": {
   "display_name": "Python 3",
   "language": "python",
   "name": "python3"
  },
  "language_info": {
   "codemirror_mode": {
    "name": "ipython",
    "version": 3
   },
   "file_extension": ".py",
   "mimetype": "text/x-python",
   "name": "python",
   "nbconvert_exporter": "python",
   "pygments_lexer": "ipython3",
   "version": "3.8.5"
  }
 },
 "nbformat": 4,
 "nbformat_minor": 5
}
