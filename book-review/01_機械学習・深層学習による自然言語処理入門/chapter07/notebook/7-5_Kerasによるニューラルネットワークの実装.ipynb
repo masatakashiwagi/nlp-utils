{
 "cells": [
  {
   "cell_type": "markdown",
   "id": "hybrid-strategy",
   "metadata": {},
   "source": [
    "## モデルの定義"
   ]
  },
  {
   "cell_type": "markdown",
   "id": "consolidated-produce",
   "metadata": {},
   "source": [
    "### Sequentialモデル"
   ]
  },
  {
   "cell_type": "code",
   "execution_count": 2,
   "id": "level-novel",
   "metadata": {},
   "outputs": [],
   "source": [
    "from tensorflow.keras.models import Sequential\n",
    "from tensorflow.keras.layers import Dense"
   ]
  },
  {
   "cell_type": "code",
   "execution_count": 16,
   "id": "operational-sending",
   "metadata": {},
   "outputs": [],
   "source": [
    "model = Sequential()\n",
    "model.add(Dense(units=32, activation='relu', input_shape=(16,)))\n",
    "model.add(Dense(units=5, activation='softmax'))"
   ]
  },
  {
   "cell_type": "code",
   "execution_count": 17,
   "id": "adjustable-blocking",
   "metadata": {},
   "outputs": [
    {
     "data": {
      "text/plain": [
       "<tf.Tensor: shape=(1, 5), dtype=float32, numpy=\n",
       "array([[0.04192974, 0.7928109 , 0.07368534, 0.0224127 , 0.0691613 ]],\n",
       "      dtype=float32)>"
      ]
     },
     "execution_count": 17,
     "metadata": {},
     "output_type": "execute_result"
    }
   ],
   "source": [
    "import numpy as np\n",
    "inputs = np.ones((1, 16), dtype=np.float32)\n",
    "model(inputs)"
   ]
  },
  {
   "cell_type": "code",
   "execution_count": 18,
   "id": "better-bankruptcy",
   "metadata": {},
   "outputs": [
    {
     "name": "stdout",
     "output_type": "stream",
     "text": [
      "Model: \"sequential_1\"\n",
      "_________________________________________________________________\n",
      "Layer (type)                 Output Shape              Param #   \n",
      "=================================================================\n",
      "dense_4 (Dense)              (None, 32)                544       \n",
      "_________________________________________________________________\n",
      "dense_5 (Dense)              (None, 5)                 165       \n",
      "=================================================================\n",
      "Total params: 709\n",
      "Trainable params: 709\n",
      "Non-trainable params: 0\n",
      "_________________________________________________________________\n"
     ]
    }
   ],
   "source": [
    "model.summary()"
   ]
  },
  {
   "cell_type": "code",
   "execution_count": 8,
   "id": "sacred-poison",
   "metadata": {},
   "outputs": [
    {
     "name": "stdout",
     "output_type": "stream",
     "text": [
      "(1, 16)\n"
     ]
    },
    {
     "data": {
      "text/plain": [
       "array([[1., 1., 1., 1., 1., 1., 1., 1., 1., 1., 1., 1., 1., 1., 1., 1.]],\n",
       "      dtype=float32)"
      ]
     },
     "execution_count": 8,
     "metadata": {},
     "output_type": "execute_result"
    }
   ],
   "source": [
    "print(inputs.shape)\n",
    "inputs"
   ]
  },
  {
   "cell_type": "code",
   "execution_count": 9,
   "id": "becoming-perth",
   "metadata": {},
   "outputs": [
    {
     "data": {
      "text/plain": [
       "array([[1., 1.],\n",
       "       [1., 1.],\n",
       "       [1., 1.],\n",
       "       [1., 1.],\n",
       "       [1., 1.],\n",
       "       [1., 1.],\n",
       "       [1., 1.],\n",
       "       [1., 1.],\n",
       "       [1., 1.],\n",
       "       [1., 1.],\n",
       "       [1., 1.],\n",
       "       [1., 1.],\n",
       "       [1., 1.],\n",
       "       [1., 1.],\n",
       "       [1., 1.],\n",
       "       [1., 1.]], dtype=float32)"
      ]
     },
     "execution_count": 9,
     "metadata": {},
     "output_type": "execute_result"
    }
   ],
   "source": [
    "sample = np.ones((16, 2), dtype=np.float32)\n",
    "sample"
   ]
  },
  {
   "cell_type": "markdown",
   "id": "funky-bonus",
   "metadata": {},
   "source": [
    "### Functional API"
   ]
  },
  {
   "cell_type": "code",
   "execution_count": 13,
   "id": "supported-seventh",
   "metadata": {},
   "outputs": [],
   "source": [
    "from tensorflow.keras.models import Model\n",
    "from tensorflow.keras.layers import Input, Dense"
   ]
  },
  {
   "cell_type": "code",
   "execution_count": 14,
   "id": "weighted-swing",
   "metadata": {},
   "outputs": [],
   "source": [
    "x = Input(shape=(16,))\n",
    "h = Dense(units=32, activation='relu')(x)\n",
    "y = Dense(units=5, activation='softmax')(h)\n",
    "model = Model(inputs=[x], outputs=[y])"
   ]
  },
  {
   "cell_type": "code",
   "execution_count": 15,
   "id": "surface-priest",
   "metadata": {},
   "outputs": [
    {
     "name": "stdout",
     "output_type": "stream",
     "text": [
      "Model: \"model\"\n",
      "_________________________________________________________________\n",
      "Layer (type)                 Output Shape              Param #   \n",
      "=================================================================\n",
      "input_1 (InputLayer)         [(None, 16)]              0         \n",
      "_________________________________________________________________\n",
      "dense_2 (Dense)              (None, 32)                544       \n",
      "_________________________________________________________________\n",
      "dense_3 (Dense)              (None, 5)                 165       \n",
      "=================================================================\n",
      "Total params: 709\n",
      "Trainable params: 709\n",
      "Non-trainable params: 0\n",
      "_________________________________________________________________\n"
     ]
    }
   ],
   "source": [
    "model.summary()"
   ]
  },
  {
   "cell_type": "markdown",
   "id": "eligible-emerald",
   "metadata": {},
   "source": [
    "### compile\n",
    "- loss: 損失関数\n",
    "- optimizer: 最適化関数\n",
    "- metrics: 評価関数"
   ]
  },
  {
   "cell_type": "code",
   "execution_count": 19,
   "id": "appointed-strain",
   "metadata": {},
   "outputs": [],
   "source": [
    "model.compile(loss='sparse_categorical_crossentropy',\n",
    "             optimizer='sgd',\n",
    "             metrics=['accuracy'])"
   ]
  },
  {
   "cell_type": "markdown",
   "id": "dried-marriage",
   "metadata": {},
   "source": [
    "### Callback\n",
    "- 関数の引数に渡される関数\n",
    "- 学習中のバッチやエポックの開始/終了時にメソッドを呼び出すことができる\n",
    "- よく使われるコールバック\n",
    "    - ModelCheckpoint\n",
    "        - 学習中にモデルを保存する\n",
    "    - EarlyStopping\n",
    "        - 過学習を避ける\n",
    "        - 一定のエポック数、学習に改善がなかった場合に、学習を停止する\n",
    "        - patience: エポック数を指定する、ここで指定したエポック数を超えて指標に改善が見れない場合に学習を停止する\n",
    "    - TensorBoard: これよく使うのか？\n",
    "        - 可視化ツール"
   ]
  },
  {
   "cell_type": "code",
   "execution_count": null,
   "id": "accompanied-grounds",
   "metadata": {},
   "outputs": [],
   "source": [
    "ModelCheckpoint(filepath,\n",
    "               monitor='val_loss',\n",
    "               verbose=0,\n",
    "               save_best_only=False,\n",
    "               save_weights_only=False,\n",
    "               mode='auto',\n",
    "               period=1)"
   ]
  },
  {
   "cell_type": "code",
   "execution_count": null,
   "id": "micro-twelve",
   "metadata": {},
   "outputs": [],
   "source": [
    "EarlyStopping(monitor='val_loss',\n",
    "             min_delta=0,\n",
    "             patience=0,\n",
    "             verbose=0,\n",
    "             mode='auto',\n",
    "             baseline=None,\n",
    "             restore_best_weights=False)"
   ]
  },
  {
   "cell_type": "code",
   "execution_count": null,
   "id": "labeled-writer",
   "metadata": {},
   "outputs": [],
   "source": [
    "TensorBoard(log_dir='./log',\n",
    "            histogram_freq=0,\n",
    "            batch_size=32,\n",
    "            write_graph=True,\n",
    "            write_grads=False,\n",
    "            write_images=False,\n",
    "            embeddings_freq=0,\n",
    "            embeddings_layer_names=None,\n",
    "            embeddings_metadata=None,\n",
    "            embeddings_data=None,\n",
    "            update_freq='epoch')"
   ]
  },
  {
   "cell_type": "code",
   "execution_count": null,
   "id": "quality-oakland",
   "metadata": {},
   "outputs": [],
   "source": []
  },
  {
   "cell_type": "code",
   "execution_count": 20,
   "id": "normal-offering",
   "metadata": {},
   "outputs": [],
   "source": [
    "import math\n",
    "from tensorflow.keras.utils import Sequence\n",
    "\n",
    "class Generator(Sequence):\n",
    "    def __init__(self, x, y, batch_size=32):\n",
    "        self.x = x\n",
    "        self.y = y\n",
    "        self.batch_size = batch_size\n",
    "        \n",
    "    def __getitem__(self, idx):\n",
    "        batch_x = self.x[idx * self.batch_size: (idx + 1) * self.batch_size]\n",
    "        batch_y = self.y[idx * self.batch_size: (idx + 1) * self.batch_size]\n",
    "        return batch_x, batch_t\n",
    "    \n",
    "    def __len__(self):\n",
    "        return math.ceil(len(self.x) / self.batch_size)"
   ]
  },
  {
   "cell_type": "code",
   "execution_count": null,
   "id": "attempted-grant",
   "metadata": {},
   "outputs": [],
   "source": []
  },
  {
   "cell_type": "markdown",
   "id": "mobile-milton",
   "metadata": {},
   "source": [
    "### モデルの保存とロード\n",
    "- 重みとアーキテクチャをまとめて保存\n",
    "- 重みとアーキテクチャを別々に保存\n",
    "    - to_json, to_yamlメソッドで文字列として書き出して、それを保存する"
   ]
  },
  {
   "cell_type": "markdown",
   "id": "colored-fraud",
   "metadata": {},
   "source": [
    "#### モデルを保存"
   ]
  },
  {
   "cell_type": "code",
   "execution_count": null,
   "id": "bound-venture",
   "metadata": {},
   "outputs": [],
   "source": [
    "model.save('model.h5')"
   ]
  },
  {
   "cell_type": "code",
   "execution_count": null,
   "id": "israeli-danger",
   "metadata": {},
   "outputs": [],
   "source": [
    "from tensorflow.keras.models import load_model\n",
    "\n",
    "model = load_model('model.h5')"
   ]
  },
  {
   "cell_type": "code",
   "execution_count": null,
   "id": "unsigned-superior",
   "metadata": {},
   "outputs": [],
   "source": [
    "json_string = model.to_json()\n",
    "with open('architecture.json', 'w') as f:\n",
    "    f.write(json_string)"
   ]
  },
  {
   "cell_type": "markdown",
   "id": "german-difficulty",
   "metadata": {},
   "source": [
    "#### 重みを保存"
   ]
  },
  {
   "cell_type": "code",
   "execution_count": null,
   "id": "alpine-commonwealth",
   "metadata": {},
   "outputs": [],
   "source": [
    "model.save_weights('weights.h5')"
   ]
  },
  {
   "cell_type": "code",
   "execution_count": null,
   "id": "novel-basics",
   "metadata": {},
   "outputs": [],
   "source": [
    "from tensorflow.keras.models import model_from_json\n",
    "\n",
    "with open('architecture.json', 'r') as f:\n",
    "    json_string = f.read()\n",
    "    model = model_from_json(json_string)"
   ]
  },
  {
   "cell_type": "markdown",
   "id": "sweet-aberdeen",
   "metadata": {},
   "source": [
    "#### モデルをロード"
   ]
  },
  {
   "cell_type": "code",
   "execution_count": null,
   "id": "ready-collar",
   "metadata": {},
   "outputs": [],
   "source": [
    "model.load_weights('weights.h5')"
   ]
  },
  {
   "cell_type": "code",
   "execution_count": null,
   "id": "graphic-inquiry",
   "metadata": {},
   "outputs": [],
   "source": []
  },
  {
   "cell_type": "markdown",
   "id": "danish-rugby",
   "metadata": {},
   "source": [
    "### 学習"
   ]
  },
  {
   "cell_type": "code",
   "execution_count": 21,
   "id": "lovely-foster",
   "metadata": {},
   "outputs": [],
   "source": [
    "import sys\n",
    "\n",
    "sys.path.append('../src/')"
   ]
  },
  {
   "cell_type": "code",
   "execution_count": 23,
   "id": "agreed-military",
   "metadata": {},
   "outputs": [],
   "source": [
    "from tensorflow.keras.callbacks import ModelCheckpoint, EarlyStopping, TensorBoard\n",
    "from tensorflow.keras.models import load_model\n",
    "from sklearn.feature_extraction.text import CountVectorizer\n",
    "from sklearn.model_selection import train_test_split\n",
    "\n",
    "from model import create_model\n",
    "from preprocessing import clean_html, tokenize\n",
    "from utils import load_dataset, plot_history"
   ]
  },
  {
   "cell_type": "code",
   "execution_count": 26,
   "id": "suspended-christopher",
   "metadata": {},
   "outputs": [
    {
     "name": "stdout",
     "output_type": "stream",
     "text": [
      "Epoch 1/100\n",
      "200/200 [==============================] - 4s 17ms/step - loss: 0.5942 - accuracy: 0.7008 - val_loss: 0.4534 - val_accuracy: 0.8169\n",
      "Epoch 2/100\n",
      "200/200 [==============================] - 3s 13ms/step - loss: 0.2625 - accuracy: 0.9172 - val_loss: 0.4400 - val_accuracy: 0.8344\n",
      "Epoch 3/100\n",
      "200/200 [==============================] - 2s 8ms/step - loss: 0.1366 - accuracy: 0.9709 - val_loss: 0.4490 - val_accuracy: 0.8356\n",
      "Epoch 4/100\n",
      "200/200 [==============================] - 1s 7ms/step - loss: 0.0718 - accuracy: 0.9887 - val_loss: 0.4838 - val_accuracy: 0.8325\n",
      "Epoch 5/100\n",
      "200/200 [==============================] - 1s 7ms/step - loss: 0.0446 - accuracy: 0.9952 - val_loss: 0.5964 - val_accuracy: 0.8119\n",
      "[[0.31653327 0.68346673]]\n"
     ]
    },
    {
     "data": {
      "image/png": "[encoded data removed]",
      "text/plain": [
       "<Figure size 432x288 with 1 Axes>"
      ]
     },
     "metadata": {
      "needs_background": "light"
     },
     "output_type": "display_data"
    },
    {
     "data": {
      "image/png": "[encoded data removed]",
      "text/plain": [
       "<Figure size 432x288 with 1 Axes>"
      ]
     },
     "metadata": {
      "needs_background": "light"
     },
     "output_type": "display_data"
    }
   ],
   "source": [
    "# データセットの読み込み\n",
    "x, y = load_dataset('../data/amazon_reviews_multilingual_JP_v1_00.tsv', n=5000)\n",
    "\n",
    "# データセットの前処理\n",
    "x = [clean_html(text, strip=True) for text in x]\n",
    "x_train, x_test, y_train, y_test = train_test_split(x, y, test_size=0.2, random_state=42)\n",
    "\n",
    "# データセットのベクトル化\n",
    "vectorizer = CountVectorizer(tokenizer=tokenize)\n",
    "x_train = vectorizer.fit_transform(x_train)\n",
    "x_test = vectorizer.transform(x_test)\n",
    "x_train = x_train.toarrayrray()\n",
    "x_test = x_test.toarray()\n",
    "\n",
    "# ハイパーパラメータの設定\n",
    "vocab_size = len(vectorizer.vocabulary_)\n",
    "label_size = len(set(y_train))\n",
    "\n",
    "# モデルの構築\n",
    "model = create_model(vocab_size, label_size)\n",
    "model.compile(loss='sparse_categorical_crossentropy',\n",
    "             optimizer='adam',\n",
    "             metrics=['accuracy'])\n",
    "\n",
    "# コールバックの準備\n",
    "filepath = '../data/model.h5'\n",
    "callback = [\n",
    "    EarlyStopping(patience=3),\n",
    "    ModelCheckpoint(filepath, save_best_only=True),\n",
    "    TensorBoard(log_dir='../logs')\n",
    "]\n",
    "\n",
    "# モデルの学習\n",
    "history = model.fit(x_train, y_train,\n",
    "                   validation_split=0.2,\n",
    "                   epochs=100,\n",
    "                   batch_size=32,\n",
    "                   callbacks=callback)\n",
    "\n",
    "# モデルのロード\n",
    "model = load_model(filepath)\n",
    "\n",
    "# 予測\n",
    "text = 'このアプリ超最高！'\n",
    "vec = vectorizer.transform([text])\n",
    "y_pred = model.predict(vec.toarray())\n",
    "print(y_pred)\n",
    "\n",
    "# 正解率を損失の可視化\n",
    "plot_history(history)"
   ]
  },
  {
   "cell_type": "code",
   "execution_count": null,
   "id": "pediatric-exposure",
   "metadata": {},
   "outputs": [],
   "source": []
  }
 ],
 "metadata": {
  "kernelspec": {
   "display_name": "Python 3",
   "language": "python",
   "name": "python3"
  },
  "language_info": {
   "codemirror_mode": {
    "name": "ipython",
    "version": 3
   },
   "file_extension": ".py",
   "mimetype": "text/x-python",
   "name": "python",
   "nbconvert_exporter": "python",
   "pygments_lexer": "ipython3",
   "version": "3.8.5"
  }
 },
 "nbformat": 4,
 "nbformat_minor": 5
}
