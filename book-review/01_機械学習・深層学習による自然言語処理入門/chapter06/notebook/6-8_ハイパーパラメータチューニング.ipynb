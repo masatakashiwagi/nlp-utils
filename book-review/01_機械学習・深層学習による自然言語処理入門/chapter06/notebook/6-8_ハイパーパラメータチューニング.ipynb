{
 "cells": [
  {
   "cell_type": "code",
   "execution_count": 1,
   "id": "terminal-choice",
   "metadata": {},
   "outputs": [],
   "source": [
    "import sys\n",
    "\n",
    "sys.path.append('../src/')"
   ]
  },
  {
   "cell_type": "code",
   "execution_count": 10,
   "id": "thick-thermal",
   "metadata": {},
   "outputs": [],
   "source": [
    "from sklearn.feature_extraction.text import TfidfVectorizer\n",
    "from sklearn.linear_model import LogisticRegression\n",
    "from sklearn.model_selection import train_test_split, cross_val_score\n",
    "from sklearn.metrics import accuracy_score\n",
    "\n",
    "from preprocessing import clean_html, tokenize\n",
    "from utils import load_dataset"
   ]
  },
  {
   "cell_type": "markdown",
   "id": "imposed-geneva",
   "metadata": {},
   "source": [
    "### データロード"
   ]
  },
  {
   "cell_type": "code",
   "execution_count": 3,
   "id": "trained-promotion",
   "metadata": {},
   "outputs": [],
   "source": [
    "x, y = load_dataset('../data/amazon_reviews_multilingual_JP_v1_00.tsv', n=5000)\n",
    "x = [clean_html(text, strip=True) for text in x]\n",
    "x_train, x_test, y_train, y_test = train_test_split(x, y, test_size=0.2, random_state=42)"
   ]
  },
  {
   "cell_type": "code",
   "execution_count": 4,
   "id": "opponent-intelligence",
   "metadata": {},
   "outputs": [],
   "source": [
    "vectorizer = TfidfVectorizer(tokenizer=tokenize)\n",
    "x_train_vec = vectorizer.fit_transform(x_train)\n",
    "x_test_vec = vectorizer.transform(x_test)"
   ]
  },
  {
   "cell_type": "markdown",
   "id": "rising-blind",
   "metadata": {},
   "source": [
    "### チューニング"
   ]
  },
  {
   "cell_type": "code",
   "execution_count": 5,
   "id": "future-worse",
   "metadata": {},
   "outputs": [
    {
     "data": {
      "text/plain": [
       "GridSearchCV(cv=5, estimator=LogisticRegression(solver='liblinear'), n_jobs=-1,\n",
       "             param_grid={'C': [0.01, 0.03, 0.1, 0.3, 0.7, 1, 1.01, 1.03, 1.07,\n",
       "                               1.1, 1.3, 1.7, 3],\n",
       "                         'penalty': ['l1', 'l2']})"
      ]
     },
     "execution_count": 5,
     "metadata": {},
     "output_type": "execute_result"
    }
   ],
   "source": [
    "parameters ={\n",
    "    'penalty': ['l1', 'l2'],\n",
    "    'C': [0.01, 0.03, 0.1, 0.3, 0.7, 1, 1.01, 1.03, 1.07, 1.1, 1.3, 1.7, 3]\n",
    "}\n",
    "lr = LogisticRegression(solver='liblinear')\n",
    "clf = GridSearchCV(lr, parameters, cv=5, n_jobs=-1)\n",
    "clf.fit(x_train_vec, y_train)"
   ]
  },
  {
   "cell_type": "code",
   "execution_count": 7,
   "id": "applied-count",
   "metadata": {},
   "outputs": [
    {
     "name": "stdout",
     "output_type": "stream",
     "text": [
      "{'C': 3, 'penalty': 'l2'}\n",
      "Accuracy(best): 0.8331\n",
      "Accuracy(test): 0.8540\n"
     ]
    }
   ],
   "source": [
    "best_clf = clf.best_estimator_\n",
    "print(clf.best_params_)\n",
    "print('Accuracy(best): {:.4f}'.format(clf.best_score_))\n",
    "\n",
    "y_pred = best_clf.predict(x_test_vec)\n",
    "score = accuracy_score(y_test, y_pred)\n",
    "print('Accuracy(test): {:.4f}'.format(score))"
   ]
  },
  {
   "cell_type": "markdown",
   "id": "special-cowboy",
   "metadata": {},
   "source": [
    "### Optunaによるパラメータチューニング"
   ]
  },
  {
   "cell_type": "code",
   "execution_count": 11,
   "id": "resistant-prisoner",
   "metadata": {},
   "outputs": [],
   "source": [
    "import optuna\n",
    "\n",
    "def objective(trial):\n",
    "    # データロード\n",
    "    x, y = load_dataset('../data/amazon_reviews_multilingual_JP_v1_00.tsv', n=5000)\n",
    "    x = [clean_html(text, strip=True) for text in x]\n",
    "    x_train, x_test, y_train, y_test = train_test_split(x, y, test_size=0.2, random_state=42)\n",
    "    \n",
    "    vectorizer = TfidfVectorizer(tokenizer=tokenize)\n",
    "    x_train_vec = vectorizer.fit_transform(x_train)\n",
    "    x_test_vec = vectorizer.transform(x_test)\n",
    "    \n",
    "    # ハイパーパラメータの設定\n",
    "    C = trial.suggest_uniform('C', 0.01, 3)\n",
    "    penalty = trial.suggest_categorical('penalty', ['l1', 'l2'])\n",
    "    \n",
    "    # モデル\n",
    "    clf = LogisticRegression(solver='liblinear', penalty=penalty, C=C)\n",
    "    scores = cross_val_score(clf, x_train_vec, y_train, cv=5)\n",
    "    \n",
    "    return score"
   ]
  },
  {
   "cell_type": "code",
   "execution_count": 13,
   "id": "built-diabetes",
   "metadata": {},
   "outputs": [
    {
     "name": "stderr",
     "output_type": "stream",
     "text": [
      "\u001b[32m[I 2021-03-27 22:01:17,541]\u001b[0m A new study created in memory with name: no-name-8938a92e-b5e3-42cd-a11a-9f9d16088221\u001b[0m\n",
      "\u001b[32m[I 2021-03-27 22:04:30,075]\u001b[0m Trial 0 finished with value: 0.854 and parameters: {'C': 0.8268377291792394, 'penalty': 'l2'}. Best is trial 0 with value: 0.854.\u001b[0m\n",
      "\u001b[32m[I 2021-03-27 22:07:40,844]\u001b[0m Trial 1 finished with value: 0.854 and parameters: {'C': 0.11348850328069093, 'penalty': 'l1'}. Best is trial 0 with value: 0.854.\u001b[0m\n",
      "\u001b[32m[I 2021-03-27 22:10:51,068]\u001b[0m Trial 2 finished with value: 0.854 and parameters: {'C': 0.4669577707899371, 'penalty': 'l1'}. Best is trial 0 with value: 0.854.\u001b[0m\n"
     ]
    }
   ],
   "source": [
    "study = optuna.create_study(direction='maximize')\n",
    "study.optimize(objective, n_trials=3)"
   ]
  },
  {
   "cell_type": "code",
   "execution_count": 14,
   "id": "portuguese-positive",
   "metadata": {},
   "outputs": [
    {
     "name": "stdout",
     "output_type": "stream",
     "text": [
      "Accuracy: 0.8540\n",
      "Best hyperparameters: {'C': 0.8268377291792394, 'penalty': 'l2'}\n"
     ]
    }
   ],
   "source": [
    "trial = study.best_trial\n",
    "print('Accuracy: {:.4f}'.format(trial.value))\n",
    "print(\"Best hyperparameters: {}\".format(trial.params))"
   ]
  },
  {
   "cell_type": "code",
   "execution_count": 15,
   "id": "presidential-antarctica",
   "metadata": {},
   "outputs": [
    {
     "name": "stdout",
     "output_type": "stream",
     "text": [
      "Accuracy(test): 0.8420\n"
     ]
    }
   ],
   "source": [
    "clf = LogisticRegression(solver='liblinear', **trial.params)\n",
    "clf.fit(x_train_vec, y_train)\n",
    "\n",
    "y_pred = clf.predict(x_test_vec)\n",
    "score = accuracy_score(y_test, y_pred)\n",
    "print('Accuracy(test): {:.4f}'.format(score))"
   ]
  },
  {
   "cell_type": "code",
   "execution_count": null,
   "id": "geographic-crack",
   "metadata": {},
   "outputs": [],
   "source": []
  }
 ],
 "metadata": {
  "kernelspec": {
   "display_name": "Python 3",
   "language": "python",
   "name": "python3"
  },
  "language_info": {
   "codemirror_mode": {
    "name": "ipython",
    "version": 3
   },
   "file_extension": ".py",
   "mimetype": "text/x-python",
   "name": "python",
   "nbconvert_exporter": "python",
   "pygments_lexer": "ipython3",
   "version": "3.8.5"
  }
 },
 "nbformat": 4,
 "nbformat_minor": 5
}
