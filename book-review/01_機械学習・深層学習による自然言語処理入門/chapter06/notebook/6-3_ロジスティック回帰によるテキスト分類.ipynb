{
 "cells": [
  {
   "cell_type": "code",
   "execution_count": 1,
   "id": "confirmed-section",
   "metadata": {},
   "outputs": [],
   "source": [
    "import sys\n",
    "\n",
    "sys.path.append('../src/')"
   ]
  },
  {
   "cell_type": "code",
   "execution_count": 2,
   "id": "bronze-engineer",
   "metadata": {},
   "outputs": [],
   "source": [
    "from sklearn.feature_extraction.text import TfidfVectorizer\n",
    "from sklearn.linear_model import LogisticRegression\n",
    "from sklearn.model_selection import train_test_split\n",
    "from sklearn.metrics import accuracy_score\n",
    "\n",
    "from preprocessing import clean_html, tokenize\n",
    "from utils import load_dataset"
   ]
  },
  {
   "cell_type": "markdown",
   "id": "loved-oracle",
   "metadata": {},
   "source": [
    "## テキスト分類"
   ]
  },
  {
   "cell_type": "markdown",
   "id": "billion-athletics",
   "metadata": {},
   "source": [
    "### データロード"
   ]
  },
  {
   "cell_type": "code",
   "execution_count": 3,
   "id": "thorough-latex",
   "metadata": {},
   "outputs": [],
   "source": [
    "x, y = load_dataset('../data/amazon_reviews_multilingual_JP_v1_00.tsv', n=5000)\n",
    "x = [clean_html(text, strip=True) for text in x]"
   ]
  },
  {
   "cell_type": "code",
   "execution_count": 5,
   "id": "equivalent-toddler",
   "metadata": {},
   "outputs": [
    {
     "data": {
      "text/plain": [
       "['現在、地球温暖化の悪影響が、ここまで顕在化しているとは想像していませんでした。特に、このまま海面温度が上昇を続けると、早晩、南極・北極の氷が大規模に溶けることによって相当の範囲の陸地が海に没し、十億人単位での難民が発生するという事実には、本当に衝撃を受けました。ある人が、「人間は地球にすくう癌細胞のようである。増殖・破壊を続け、最終的には自らも寄生先の死によって滅ぶ運命にある」と言っていたことを思い出しました。一方、主人公であるゴア氏が、聴衆が数十人〜数百人程度の世界中の教室・会議場をまわって危機を訴えるという、地道な「草の根」の活動にも大変感銘を受けました。個人的には、ゴア氏には、ブッシュ氏との大統領戦における、「賢いが傲慢で冷徹」というイメージが強かったのですが、およそそんなことはない（＝きっと、ブッシュ陣営のネガティブ・キャンペーンの影響を愚かにも受けていたのでしょう）、信念を持ち、実行力が伴った、特筆すべき政治家であることも分かりました。温暖化の危機、ゴア氏ほかの活動家・学者の行動に対する不明を恥じると共に、自らもCO2ゼロ化に向けて早速行動したいと思いました。なお、当作品は、語られる事象のすべてが具体的かつ客観的に科学的根拠に支えられており、ドキュメンタリーとしても秀逸だと思います。是非ご覧になってみて下さい。お奨めします。',\n",
       " 'このアクション映画ほど、男気を感じたものはあったのだろうか。シンプル構成で時間をたっぷりと使った中身のあるアクション映画です。劇中、鉄斧を持った闇のサイコ集団（敵）が出てくるんですがスタローンがこれでもかと、鉄拳制裁っ！するあたりはまさに圧巻の連続です。シンプルな映画ですが、家族で見ててハラハラドキドキします。また、この頃の映画って何か麻薬的な中毒性がありますよね。何度も映画の世界に引きずり込まれてしまいます。最近のアクション映画に物足りなさを感じている方、ぜひこのスタローンアクションを見て日々の疲れきった人生にスパイスを与えましょう。']"
      ]
     },
     "execution_count": 5,
     "metadata": {},
     "output_type": "execute_result"
    }
   ],
   "source": [
    "x[:2]"
   ]
  },
  {
   "cell_type": "code",
   "execution_count": 7,
   "id": "south-workstation",
   "metadata": {},
   "outputs": [],
   "source": [
    "x_train, x_test, y_train, y_test = train_test_split(x, y, test_size=0.2, random_state=42)"
   ]
  },
  {
   "cell_type": "code",
   "execution_count": 8,
   "id": "classical-madness",
   "metadata": {},
   "outputs": [],
   "source": [
    "vectorizer = TfidfVectorizer(tokenizer=tokenize)\n",
    "x_train_vec = vectorizer.fit_transform(x_train)\n",
    "x_test_vec = vectorizer.transform(x_test)"
   ]
  },
  {
   "cell_type": "markdown",
   "id": "sublime-runner",
   "metadata": {},
   "source": [
    "### 分類モデル"
   ]
  },
  {
   "cell_type": "code",
   "execution_count": 14,
   "id": "chemical-oliver",
   "metadata": {},
   "outputs": [
    {
     "data": {
      "text/plain": [
       "LogisticRegression(solver='liblinear')"
      ]
     },
     "execution_count": 14,
     "metadata": {},
     "output_type": "execute_result"
    }
   ],
   "source": [
    "clf = LogisticRegression(solver='liblinear')\n",
    "clf.fit(x_train_vec, y_train)"
   ]
  },
  {
   "cell_type": "code",
   "execution_count": 15,
   "id": "blessed-skating",
   "metadata": {},
   "outputs": [
    {
     "name": "stdout",
     "output_type": "stream",
     "text": [
      "Accuracy(test): 0.8440\n"
     ]
    }
   ],
   "source": [
    "y_pred = clf.predict(x_test_vec)\n",
    "score = accuracy_score(y_test, y_pred)\n",
    "print(\"Accuracy(test): {:.4f}\".format(score))"
   ]
  },
  {
   "cell_type": "code",
   "execution_count": null,
   "id": "separate-strengthening",
   "metadata": {},
   "outputs": [],
   "source": []
  }
 ],
 "metadata": {
  "kernelspec": {
   "display_name": "Python 3",
   "language": "python",
   "name": "python3"
  },
  "language_info": {
   "codemirror_mode": {
    "name": "ipython",
    "version": 3
   },
   "file_extension": ".py",
   "mimetype": "text/x-python",
   "name": "python",
   "nbconvert_exporter": "python",
   "pygments_lexer": "ipython3",
   "version": "3.8.5"
  }
 },
 "nbformat": 4,
 "nbformat_minor": 5
}
