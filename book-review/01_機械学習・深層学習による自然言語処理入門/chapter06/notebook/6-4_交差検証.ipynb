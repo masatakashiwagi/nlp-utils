{
 "cells": [
  {
   "cell_type": "code",
   "execution_count": 1,
   "id": "lesbian-studio",
   "metadata": {},
   "outputs": [],
   "source": [
    "import sys\n",
    "\n",
    "sys.path.append('../src/')"
   ]
  },
  {
   "cell_type": "code",
   "execution_count": 8,
   "id": "velvet-armstrong",
   "metadata": {},
   "outputs": [],
   "source": [
    "from sklearn.feature_extraction.text import TfidfVectorizer\n",
    "from sklearn.linear_model import LogisticRegression\n",
    "from sklearn.model_selection import train_test_split, cross_val_score\n",
    "from sklearn.metrics import accuracy_score\n",
    "\n",
    "from preprocessing import clean_html, tokenize\n",
    "from utils import load_dataset"
   ]
  },
  {
   "cell_type": "markdown",
   "id": "secure-sleeve",
   "metadata": {},
   "source": [
    "### データロード"
   ]
  },
  {
   "cell_type": "code",
   "execution_count": 9,
   "id": "taken-atlas",
   "metadata": {},
   "outputs": [],
   "source": [
    "x, y = load_dataset('../data/amazon_reviews_multilingual_JP_v1_00.tsv', n=5000)\n",
    "x = [clean_html(text, strip=True) for text in x]\n",
    "x_train, x_test, y_train, y_test = train_test_split(x, y, test_size=0.2, random_state=42)"
   ]
  },
  {
   "cell_type": "code",
   "execution_count": 10,
   "id": "derived-denver",
   "metadata": {},
   "outputs": [],
   "source": [
    "vectorizer = TfidfVectorizer(tokenizer=tokenize)\n",
    "x_train_vec = vectorizer.fit_transform(x_train)\n",
    "x_test_vec = vectorizer.transform(x_test)"
   ]
  },
  {
   "cell_type": "markdown",
   "id": "rotary-destination",
   "metadata": {},
   "source": [
    "### 分類モデル"
   ]
  },
  {
   "cell_type": "code",
   "execution_count": 11,
   "id": "extreme-branch",
   "metadata": {},
   "outputs": [
    {
     "name": "stdout",
     "output_type": "stream",
     "text": [
      "[0.8175   0.83375  0.8225   0.8275   0.820625]\n",
      "Accuracy(test): 0.8244 (+/- 0.0114)\n"
     ]
    }
   ],
   "source": [
    "clf = LogisticRegression(solver='liblinear')\n",
    "scores = cross_val_score(clf, x_train_vec, y_train, cv=5)\n",
    "print(scores)\n",
    "print(\"Accuracy(test): {:.4f} (+/- {:.4f})\".format(scores.mean(), scores.std() * 2))"
   ]
  },
  {
   "cell_type": "code",
   "execution_count": 12,
   "id": "military-reconstruction",
   "metadata": {},
   "outputs": [
    {
     "name": "stdout",
     "output_type": "stream",
     "text": [
      "Accuracy(test): 0.8440\n"
     ]
    }
   ],
   "source": [
    "clf.fit(x_train_vec, y_train)\n",
    "y_pred = clf.predict(x_test_vec)\n",
    "score = accuracy_score(y_test, y_pred)\n",
    "print(\"Accuracy(test): {:.4f}\".format(score))"
   ]
  },
  {
   "cell_type": "code",
   "execution_count": null,
   "id": "fatal-divorce",
   "metadata": {},
   "outputs": [],
   "source": []
  }
 ],
 "metadata": {
  "kernelspec": {
   "display_name": "Python 3",
   "language": "python",
   "name": "python3"
  },
  "language_info": {
   "codemirror_mode": {
    "name": "ipython",
    "version": 3
   },
   "file_extension": ".py",
   "mimetype": "text/x-python",
   "name": "python",
   "nbconvert_exporter": "python",
   "pygments_lexer": "ipython3",
   "version": "3.8.5"
  }
 },
 "nbformat": 4,
 "nbformat_minor": 5
}
