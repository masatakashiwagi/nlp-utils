{
 "cells": [
  {
   "cell_type": "code",
   "execution_count": 1,
   "metadata": {},
   "outputs": [],
   "source": [
    "import sys\n",
    "\n",
    "sys.path.append('../../')"
   ]
  },
  {
   "cell_type": "code",
   "execution_count": 10,
   "metadata": {},
   "outputs": [],
   "source": [
    "from sklearn.model_selection import train_test_split\n",
    "from preprocessing import clean_html, normalize_number, tokenize, tokenize_base_form\n",
    "from utils import load_dataset, train_and_eval\n",
    "import pandas as pd\n",
    "import string\n",
    "\n",
    "import warnings\n",
    "warnings.filterwarnings('ignore')"
   ]
  },
  {
   "cell_type": "markdown",
   "metadata": {},
   "source": [
    "## モジュール"
   ]
  },
  {
   "cell_type": "code",
   "execution_count": null,
   "metadata": {},
   "outputs": [],
   "source": [
    "def filter_by_ascii_rate(text, threshold=0.9):\n",
    "    ascii_letters = set(string.printable)\n",
    "    rate = sum(c in ascii_letters for c in text) / len(text)\n",
    "    return rate <= threshold"
   ]
  },
  {
   "cell_type": "markdown",
   "metadata": {},
   "source": [
    "## データロード"
   ]
  },
  {
   "cell_type": "code",
   "execution_count": null,
   "metadata": {},
   "outputs": [],
   "source": [
    "filename = '../data/amazon_reviews_multilingual_JP_v1_00.tsv'\n",
    "df = pd.read_csv(filename, sep='\\t')\n",
    "df.head(3)"
   ]
  },
  {
   "cell_type": "code",
   "execution_count": null,
   "metadata": {},
   "outputs": [],
   "source": [
    "# extracts Japanese texts.\n",
    "is_jp = df.review_body.apply(filter_by_ascii_rate)\n",
    "df = df[is_jp]\n",
    "df.head(3)"
   ]
  },
  {
   "cell_type": "code",
   "execution_count": null,
   "metadata": {},
   "outputs": [],
   "source": [
    "# sampling.\n",
    "random_state = 42\n",
    "n = 1000\n",
    "\n",
    "df = df.sample(frac=1, random_state=random_state)  # shuffle\n",
    "grouped = df.groupby('star_rating')\n",
    "df = grouped.head(n=n)\n",
    "df.head(3)"
   ]
  },
  {
   "cell_type": "code",
   "execution_count": null,
   "metadata": {},
   "outputs": [],
   "source": [
    "df['star_rating'].value_counts()"
   ]
  },
  {
   "cell_type": "code",
   "execution_count": 3,
   "metadata": {},
   "outputs": [],
   "source": [
    "x, y = load_dataset('../data/amazon_reviews_multilingual_JP_v1_00.tsv', n=1000)"
   ]
  },
  {
   "cell_type": "markdown",
   "metadata": {},
   "source": [
    "## データ分割"
   ]
  },
  {
   "cell_type": "code",
   "execution_count": 4,
   "metadata": {},
   "outputs": [],
   "source": [
    "x_train, x_test, y_train, y_test = train_test_split(x, y, test_size=0.2, random_state=42)"
   ]
  },
  {
   "cell_type": "markdown",
   "metadata": {},
   "source": [
    "## 学習と評価"
   ]
  },
  {
   "cell_type": "code",
   "execution_count": null,
   "metadata": {},
   "outputs": [],
   "source": [
    "from sklearn.feature_extraction.text import CountVectorizer\n",
    "\n",
    "# 出現する単語のカウントを特徴量とする\n",
    "vectorizer = CountVectorizer(lowercase=None, tokenizer=None, preprocessor=None)\n",
    "x_train_vec = vectorizer.fit_transform(x_train)"
   ]
  },
  {
   "cell_type": "code",
   "execution_count": null,
   "metadata": {},
   "outputs": [],
   "source": [
    "pd.DataFrame(x_train_vec.toarray(), columns=vectorizer.get_feature_names())"
   ]
  },
  {
   "cell_type": "code",
   "execution_count": 5,
   "metadata": {},
   "outputs": [
    {
     "name": "stdout",
     "output_type": "stream",
     "text": [
      "Tokenization only.\n",
      "0.4010\n"
     ]
    }
   ],
   "source": [
    "print('Tokenization only.')\n",
    "train_and_eval(x_train, y_train, x_test, y_test, tokenize=tokenize)"
   ]
  },
  {
   "cell_type": "code",
   "execution_count": 11,
   "metadata": {},
   "outputs": [
    {
     "name": "stdout",
     "output_type": "stream",
     "text": [
      "Clean html.\n",
      "0.4020\n"
     ]
    }
   ],
   "source": [
    "print('Clean html.')\n",
    "train_and_eval(x_train, y_train, x_test, y_test, tokenize=tokenize, preprocessor=clean_html)"
   ]
  },
  {
   "cell_type": "code",
   "execution_count": 7,
   "metadata": {},
   "outputs": [
    {
     "name": "stdout",
     "output_type": "stream",
     "text": [
      "Normalize number.\n",
      "0.3940\n"
     ]
    }
   ],
   "source": [
    "print('Normalize number.')\n",
    "train_and_eval(x_train, y_train, x_test, y_test, tokenize=tokenize, preprocessor=normalize_number)"
   ]
  },
  {
   "cell_type": "code",
   "execution_count": 8,
   "metadata": {},
   "outputs": [
    {
     "name": "stdout",
     "output_type": "stream",
     "text": [
      "Base form.\n",
      "0.3930\n"
     ]
    }
   ],
   "source": [
    "print('Base form.')\n",
    "train_and_eval(x_train, y_train, x_test, y_test, tokenize=tokenize_base_form)"
   ]
  },
  {
   "cell_type": "code",
   "execution_count": 9,
   "metadata": {},
   "outputs": [
    {
     "name": "stdout",
     "output_type": "stream",
     "text": [
      "Lower text.\n",
      "0.3960\n"
     ]
    }
   ],
   "source": [
    "print('Lower text.')\n",
    "train_and_eval(x_train, y_train, x_test, y_test, tokenize=tokenize, lowercase=True)"
   ]
  },
  {
   "cell_type": "code",
   "execution_count": null,
   "metadata": {},
   "outputs": [],
   "source": []
  }
 ],
 "metadata": {
  "kernelspec": {
   "display_name": "Python 3",
   "language": "python",
   "name": "python3"
  },
  "language_info": {
   "codemirror_mode": {
    "name": "ipython",
    "version": 3
   },
   "file_extension": ".py",
   "mimetype": "text/x-python",
   "name": "python",
   "nbconvert_exporter": "python",
   "pygments_lexer": "ipython3",
   "version": "3.8.3"
  }
 },
 "nbformat": 4,
 "nbformat_minor": 4
}
