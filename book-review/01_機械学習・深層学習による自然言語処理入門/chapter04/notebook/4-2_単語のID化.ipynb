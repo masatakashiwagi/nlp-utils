{
 "cells": [
  {
   "cell_type": "markdown",
   "metadata": {},
   "source": [
    "## 単語のID化"
   ]
  },
  {
   "cell_type": "code",
   "execution_count": 1,
   "metadata": {},
   "outputs": [],
   "source": [
    "# 準備\n",
    "from collections import Counter\n",
    "\n",
    "with open('../data/ja.text8', 'r', encoding='utf-8') as f:\n",
    "    text = f.read()\n",
    "    words = text.split()\n",
    "\n",
    "fdist = Counter(words)"
   ]
  },
  {
   "cell_type": "code",
   "execution_count": 2,
   "metadata": {},
   "outputs": [],
   "source": [
    "UNK = '<UNK>'\n",
    "PAD = '<PAD>'\n",
    "vocab = {PAD: 0, UNK: 1}\n",
    "\n",
    "for word, _ in fdist.most_common():\n",
    "    vocab[word] = len(vocab)"
   ]
  },
  {
   "cell_type": "code",
   "execution_count": 4,
   "metadata": {},
   "outputs": [
    {
     "name": "stdout",
     "output_type": "stream",
     "text": [
      "[1151, 6, 7901]\n"
     ]
    }
   ],
   "source": [
    "words = ['私', 'は', '元気']\n",
    "word_ids = [vocab.get(w, vocab[UNK]) for w in words]  # dictのgetの第二引数は存在しない場合に、指定したものを返す\n",
    "print(word_ids)"
   ]
  },
  {
   "cell_type": "code",
   "execution_count": null,
   "metadata": {},
   "outputs": [],
   "source": []
  }
 ],
 "metadata": {
  "kernelspec": {
   "display_name": "Python 3",
   "language": "python",
   "name": "python3"
  },
  "language_info": {
   "codemirror_mode": {
    "name": "ipython",
    "version": 3
   },
   "file_extension": ".py",
   "mimetype": "text/x-python",
   "name": "python",
   "nbconvert_exporter": "python",
   "pygments_lexer": "ipython3",
   "version": "3.8.3"
  }
 },
 "nbformat": 4,
 "nbformat_minor": 4
}
